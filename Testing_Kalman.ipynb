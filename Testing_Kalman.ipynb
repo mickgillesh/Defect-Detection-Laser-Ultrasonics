{
 "cells": [
  {
   "cell_type": "markdown",
   "metadata": {},
   "source": [
    "The bulk of this code details an implementation of the Kalman filter based on a sequence of object detections from YOLO. Bounding box information is passed to the filter and defects are detected based on whether multiple detections occur in the same location"
   ]
  },
  {
   "cell_type": "code",
   "execution_count": 1,
   "metadata": {},
   "outputs": [
    {
     "name": "stderr",
     "output_type": "stream",
     "text": [
      "c:\\Users\\micha\\Anaconda3\\envs\\R-CNN\\lib\\site-packages\\tqdm\\auto.py:22: TqdmWarning: IProgress not found. Please update jupyter and ipywidgets. See https://ipywidgets.readthedocs.io/en/stable/user_install.html\n",
      "  from .autonotebook import tqdm as notebook_tqdm\n"
     ]
    }
   ],
   "source": [
    "import torch\n",
    "import cv2\n",
    "import torch\n",
    "from PIL import Image\n",
    "import numpy as np\n",
    "import pandas as pd\n",
    "import matplotlib.pyplot as plt\n",
    "import os\n",
    "import random\n",
    "from csv import writer\n",
    "import math"
   ]
  },
  {
   "cell_type": "code",
   "execution_count": 2,
   "metadata": {},
   "outputs": [],
   "source": [
    "def matchup(previous_boxes,current_boxes):\n",
    "    #Function that finds the closest boxes from the previous frame to those in the current frame, function returns a pandas DF\n",
    "    #with each row representing a pair of boxes and the columns representing the x and y coordinates of their centres. (based on\n",
    "    # euclidean distance between centres)\n",
    "    i=0\n",
    "    x_p = previous_boxes.xcenter.to_numpy()\n",
    "    y_p = previous_boxes.ycenter.to_numpy()\n",
    "    x_old = list()\n",
    "    y_old = list()\n",
    "    for x_c in current_boxes.xcenter.to_numpy():\n",
    "        y_c = current_boxes.ycenter[i]\n",
    "        euc = np.sqrt(np.square((x_p - x_c)) + np.square((y_p - y_c)))\n",
    "        \n",
    "        closest = np.where(euc == np.amin(euc))\n",
    "        # x_old.append(x_p[closest[0]])\n",
    "        # y_old.append(y_p[closest[0]])\n",
    "        if np.amin(euc) < 30:\n",
    "            x_old.append(x_p[closest[0]])\n",
    "            y_old.append(y_p[closest[0]])\n",
    "        else:\n",
    "            x_old.append([0])\n",
    "            y_old.append([0])\n",
    "\n",
    "        i=i+1\n",
    "    matched_data = {'xcentre_old':np.asarray(x_old).reshape(-1),\n",
    "                    'ycentre_old':np.asarray(y_old).reshape(-1),\n",
    "                    'xcentre_new':current_boxes.xcenter.to_numpy(),\n",
    "                    'ycentre_new':current_boxes.ycenter.to_numpy()}\n",
    "\n",
    "    matched_boxes = pd.DataFrame(data = matched_data)\n",
    "    return matched_boxes"
   ]
  },
  {
   "cell_type": "code",
   "execution_count": 23,
   "metadata": {},
   "outputs": [],
   "source": [
    "def predict(initial_x,initial_y,new_x,new_y,x_e_est,y_e_est,x_est,y_est,i):\n",
    "    x_k_minus_1 = np.array([initial_x,initial_y])\n",
    "    #x_k_minus_1 = np.array([x_est,y_est])\n",
    "    e_est = np.array([x_e_est,y_e_est])\n",
    "    x_k = np.array([new_x,new_y])\n",
    "    l_est = np.array([x_est,y_est])\n",
    "    #e_meas = np.array([abs(initial_x-new_x),abs(initial_y-new_y)])\n",
    "    #e_meas = np.array([(np.exp(1/(0.001*(i-8)))),(np.exp(1/(0.001*(i-8))))])\n",
    "    e_meas = np.array([(330/i),(330/i)])\n",
    "    #e_meas = np.array([50,50])\n",
    "\n",
    "    kg = e_est/(e_est + e_meas)\n",
    "    l_est = x_k_minus_1 + np.multiply(kg,(x_k - l_est))\n",
    "    e_est = np.multiply(e_est,(1-kg))\n",
    "    \n",
    "    \n",
    "    return e_est[0],e_est[1],l_est[0],l_est[1]"
   ]
  },
  {
   "cell_type": "code",
   "execution_count": 6,
   "metadata": {},
   "outputs": [],
   "source": [
    "def update(matched_boxes,kalman_matrix):\n",
    "    new_kalman_matrix = kalman_matrix.copy()\n",
    "    #Shift x and y coordinates from new to old column\n",
    "    new_kalman_matrix['xcentre_old'] = new_kalman_matrix['xcentre_new']\n",
    "    new_kalman_matrix['ycentre_old'] = new_kalman_matrix['ycentre_new']\n",
    "    #remove any rows for points that are no longer present\n",
    "    discarded_kalman_matrix = new_kalman_matrix[new_kalman_matrix.xcentre_old.isin(matched_boxes['xcentre_old'].values)]\n",
    "    final_new_kalman_matrix = matched_boxes.copy()\n",
    "    #create new kalman matrix by copying in the error estimate and location estimates from the old matrix and concatenating to \n",
    "    #correct entries in new table(necessary as often the same box is used by muplitple boxes in next image)\n",
    "    for index, row in discarded_kalman_matrix.iterrows():\n",
    "        for index2, row2 in final_new_kalman_matrix.iterrows():\n",
    "            if row2['xcentre_old'] == row['xcentre_old']:\n",
    "                final_new_kalman_matrix.loc[index2,['x_e_est']] = row['x_e_est']\n",
    "                final_new_kalman_matrix.loc[index2,['y_e_est']] = row['y_e_est']\n",
    "                final_new_kalman_matrix.loc[index2,['x_est']] = row['x_est']\n",
    "                final_new_kalman_matrix.loc[index2,['y_est']] = row['y_est']\n",
    "\n",
    "    for index,row in final_new_kalman_matrix.iterrows():\n",
    "        if row['xcentre_old'] not in discarded_kalman_matrix['xcentre_old'].values:\n",
    "                final_new_kalman_matrix.loc[index,['x_e_est']] = 300\n",
    "                final_new_kalman_matrix.loc[index,['y_e_est']] = 300\n",
    "                final_new_kalman_matrix.loc[index,['x_est']] = 0\n",
    "                final_new_kalman_matrix.loc[index,['y_est']] = 0\n",
    "    return final_new_kalman_matrix"
   ]
  },
  {
   "cell_type": "code",
   "execution_count": 7,
   "metadata": {},
   "outputs": [],
   "source": [
    "def create_kalman_matrix(matched_boxes):\n",
    "    new_matrix = matched_boxes.copy()\n",
    "    new_matrix['x_e_est'] = 300\n",
    "    new_matrix['y_e_est'] = 300\n",
    "    new_matrix['x_est'] = 0\n",
    "    new_matrix['y_est'] = 0\n",
    "    \n",
    "    return new_matrix"
   ]
  },
  {
   "cell_type": "code",
   "execution_count": 8,
   "metadata": {},
   "outputs": [],
   "source": [
    "def isoverlap(xmin_1,xmax_1,ymin_1,ymax_1,xmin_2,xmax_2,ymin_2,ymax_2):\n",
    "\n",
    "    if(xmin_1 > xmax_2 or xmin_2 > xmax_1):\n",
    "        overlap = False\n",
    "    \n",
    "    elif(ymax_1 < ymin_2 or ymax_2 < ymin_1):\n",
    "        overlap = False\n",
    "\n",
    "    else:\n",
    "        overlap = True\n",
    "        if overlap == True:\n",
    "            union = ((xmax_1-xmin_1)*(ymax_1-ymin_1))+((xmax_2-xmin_2)*(ymax_2-ymin_2))\n",
    "            xmin_i = max(xmin_1, xmin_2)\n",
    "            xmax_i = min(xmax_1, xmax_2)\n",
    "            ymin_i = max(ymin_1, ymin_2)\n",
    "            ymax_i = min(ymax_1, ymax_2)       \n",
    "            intersection = ((xmax_i-xmin_i)*(ymax_i-ymin_i))\n",
    "            iou = intersection/union\n",
    "            if iou > 0.5:\n",
    "                located = True\n",
    "\n",
    "\n",
    "    return overlap"
   ]
  },
  {
   "cell_type": "code",
   "execution_count": 21,
   "metadata": {},
   "outputs": [],
   "source": [
    "def kalman(results,threshold,box_thresh):\n",
    "    i = 0\n",
    "    defect_flag = False\n",
    "    br = False\n",
    "    for i in range(len(results)-1):\n",
    "        pred_1 = results.pandas().xywh[i]\n",
    "        pred_2 = results.pandas().xywh[i+1]\n",
    "        if (pred_1.shape[0]==0 & pred_2.shape[0] == 0) and ('stored_pred_1' not in locals()):\n",
    "            continue\n",
    "\n",
    "        if (pred_1.shape[0] != 0 & pred_2.shape[0] == 0):\n",
    "            stored_pred_1 = pred_1\n",
    "        #If no defects detected in new image just continue\n",
    "        if (pred_1.shape[0] == 0):\n",
    "            pred_1 = stored_pred_1\n",
    "        \n",
    "        matched_box = matchup(pred_1,pred_2)\n",
    "        if 'kalman_matrix' not in locals():\n",
    "            kalman_matrix = create_kalman_matrix(matched_box)\n",
    "        else:\n",
    "            kalman_matrix = update(matched_box,kalman_matrix)\n",
    "        \n",
    "        for index, row in kalman_matrix.iterrows():\n",
    "            kalman_matrix.loc[index,['x_e_est']],kalman_matrix.loc[index,['y_e_est']],kalman_matrix.loc[index,['x_est']],kalman_matrix.loc[index,['y_est']] = predict(row['xcentre_old'],\n",
    "                                                                                                                                                                        row['ycentre_old'],\n",
    "                                                                                                                                                                        row['xcentre_new'],\n",
    "                                                                                                                                                                        row['ycentre_new'],\n",
    "                                                                                                                                                                        row['x_e_est'],\n",
    "                                                                                                                                                                        row['y_e_est'],\n",
    "                                                                                                                                                                        row['x_est'],\n",
    "                                                                                                                                                                        row['y_est'],i+9)\n",
    "        for index, row in kalman_matrix.iterrows():\n",
    "            if (abs(row['xcentre_new']- row['x_est']) + abs(row['ycentre_new']- row['y_est']))< box_thresh and (row['x_e_est'] +  row['y_e_est']) < threshold:\n",
    "                br=True\n",
    "        \n",
    "        if br == True:\n",
    "            defect_flag = True\n",
    "            break\n",
    "        # if (kalman_matrix['x_e_est'] + kalman_matrix['y_e_est']).min() < threshold:#changed from 5 to 0.1 on old set\n",
    "        #     defect_flag = True \n",
    "        #     break\n",
    "    try:\n",
    "        output = kalman_matrix\n",
    "        images = i+2\n",
    "    except UnboundLocalError:\n",
    "        #if get to end of sequence without making prediction return empty kalman matrix\n",
    "        #output = create_kalman_matrix(pd.DataFrame(columns=['xcentre_old','ycentre_old','xcentre_new','ycentre_new']))\n",
    "        output = pd.DataFrame(columns =['xcentre_old','ycentre_old','xcentre_new','ycentre_new','x_e_est','y_e_est','x_est','y_est'])\n",
    "        images = i+2\n",
    "    return output,images,defect_flag"
   ]
  },
  {
   "cell_type": "code",
   "execution_count": 36,
   "metadata": {},
   "outputs": [],
   "source": [
    "defect_image_store =\"C:\\\\Users\\\\micha\\\\OneDrive\\\\Documents\\\\UniWork\\\\Project\\\\Dataset\\\\New_simulated\\\\Final_set\\\\Experimental2\\\\33elem\\\\\"\n",
    "defect_names = [name for name in os.listdir(defect_image_store) if name.endswith(\".bmp\")]\n",
    "\n",
    "no_defect_image_store = \"C:\\\\Users\\\\micha\\\\OneDrive\\\\Documents\\\\UniWork\\\\Project\\\\Dataset\\\\New_simulated\\\\Final_set\\\\Experimental_defect_free\\\\33elem\\\\\"\n",
    "no_defect_names = [name for name in os.listdir(no_defect_image_store) if name.endswith(\".bmp\")]\n",
    "defect_names = defect_names[0:33] + defect_names[41:46]"
   ]
  },
  {
   "cell_type": "code",
   "execution_count": 12,
   "metadata": {},
   "outputs": [],
   "source": [
    "def append_list_as_row(file_name, list_of_elem):\n",
    "    # Open file in append mode\n",
    "    with open(file_name, 'a+', newline='') as write_obj:\n",
    "        # Create a writer object from csv module\n",
    "        csv_writer = writer(write_obj)\n",
    "        # Add contents of list as last row in the csv file\n",
    "        csv_writer.writerow(list_of_elem)"
   ]
  },
  {
   "cell_type": "code",
   "execution_count": 98,
   "metadata": {},
   "outputs": [],
   "source": [
    "thresholds = [0.1,0.5,2,3,4,5,6,7,8,9,10]\n",
    "b_threshs = [1,2,3,5,7,9,15]"
   ]
  },
  {
   "cell_type": "code",
   "execution_count": 34,
   "metadata": {},
   "outputs": [
    {
     "name": "stderr",
     "output_type": "stream",
     "text": [
      "YOLOv5  2022-6-20 Python-3.8.13 torch-1.11.0+cpu CPU\n",
      "\n",
      "Fusing layers... \n",
      "Model summary: 213 layers, 7012822 parameters, 0 gradients\n",
      "Adding AutoShape... \n"
     ]
    }
   ],
   "source": [
    "model = torch.hub.load('C:\\\\Users\\\\micha\\\\OneDrive\\\\Documents\\\\UniWork\\\\Project\\\\Python work\\\\YOLO\\\\YOLO_Kalman_Implementation\\\\yolov5', 'custom', path='C:\\\\Users\\\\micha\\\\OneDrive\\\\Documents\\\\UniWork\\\\Project\\\\Python work\\\\YOLO\\\\Models\\\\Final_model.pt', source='local')\n",
    "model.conf = 0.55#0.5"
   ]
  },
  {
   "cell_type": "code",
   "execution_count": 37,
   "metadata": {},
   "outputs": [],
   "source": [
    "#Optimum parameters\n",
    "thresholds = [6]\n",
    "b_threshs = [15]"
   ]
  },
  {
   "cell_type": "markdown",
   "metadata": {},
   "source": [
    "Testing model on sequences of images, code can also be used to perform gridsearch if required"
   ]
  },
  {
   "cell_type": "code",
   "execution_count": 38,
   "metadata": {},
   "outputs": [
    {
     "name": "stdout",
     "output_type": "stream",
     "text": [
      "0.8421052631578947 28 4 0.425\n",
      "21.125\n"
     ]
    }
   ],
   "source": [
    "for threshold in thresholds:\n",
    "    for b_thresh in b_threshs:\n",
    "        tp_count = 0\n",
    "        fp_count = 0\n",
    "        required_frames = 0\n",
    "        true_box_count = 0\n",
    "        false_box_count = 0\n",
    "        model.conf = 0.55\n",
    "        model.iou = 0.45\n",
    "        kalman_thresh = threshold\n",
    "        box_thresh = b_thresh\n",
    "        for defect_name in defect_names:\n",
    "            imgs = []\n",
    "            preds = []\n",
    "            for i in range(9,34):\n",
    "\n",
    "                img = Image.open((defect_image_store.replace('33',str(i)) + defect_name.replace('33elem',(str(i)+'elem'))))\n",
    "\n",
    "                imgs.append(img)\n",
    "                \n",
    "            results = model(imgs, size=600)\n",
    "\n",
    "\n",
    "            test_full,image_number,defective = kalman(results,kalman_thresh,box_thresh)\n",
    "\n",
    "            display_image = np.array(imgs[image_number - 1])\n",
    "            \n",
    "            if defective == True:\n",
    "                tp_count = tp_count + 1\n",
    "                required_frames = required_frames + image_number\n",
    "                defects_kalman = test_full.loc[((abs(test_full['xcentre_new']-test_full['x_est'])+abs(test_full['ycentre_new']-test_full['y_est']))< box_thresh) & ((test_full['x_e_est'] + test_full['y_e_est']) < kalman_thresh)]\n",
    "                defects_options = results.pandas().xywh[image_number-1]\n",
    "                defects = defects_options.loc[defects_options['xcenter'].isin(defects_kalman['xcentre_new'])]\n",
    "                for index,row in defects.iterrows():\n",
    "                    start_x = round(row['xcenter'] - (row['width']/2))\n",
    "                    end_x = round(row['xcenter'] + (row['width']/2))\n",
    "                    start_y = round(row['ycenter'] - (row['height']/2))\n",
    "                    end_y = round(row['ycenter'] + (row['height']/2))\n",
    "                    display_image = cv2.rectangle(display_image,(start_x,start_y),(end_x,end_y),(0,255,0),2)\n",
    "                    with open(defect_image_store.replace('33elem','labels') + defect_name.replace('bmp','txt')) as f:\n",
    "                        lines = f.readlines()\n",
    "                        for line in lines:\n",
    "\n",
    "                            boxes = np.fromstring(line, dtype=float, sep=' ')\n",
    "                            start_x_2 =  round(600*(boxes[1]-(boxes[3]/2)))\n",
    "                            start_y_2 = round(249*(boxes[2]-(boxes[4]/2)))\n",
    "                            end_x_2 = round(600*(boxes[1]+(boxes[3]/2)))\n",
    "                            end_y_2 = round(249*(boxes[2]+(boxes[4]/2)))\n",
    "                            display_image = cv2.rectangle(display_image,(start_x_2,start_y_2),(end_x_2,end_y_2),(255,0,0),2)\n",
    "\n",
    "                    overlapping = isoverlap(start_x,end_x,start_y,end_y,start_x_2,end_x_2,start_y_2,end_y_2)\n",
    "                    if overlapping == True:\n",
    "                        true_box_count = true_box_count + 1\n",
    "                    elif overlapping == False:\n",
    "                        false_box_count = false_box_count + 1\n",
    "            plt.imshow(display_image)\n",
    "            plt.title('Result after' + str(image_number) + 'Images')\n",
    "            plt.savefig('C:\\\\Users\\\\micha\\\\OneDrive\\\\Documents\\\\UniWork\\\\Project\\\\Dataset\\\\New_simulated\\\\Final_set\\\\Experimental\\\\output\\\\' + defect_name + '.png')\n",
    "\n",
    "        for no_defect_name in no_defect_names[0:39]:\n",
    "            imgs = []\n",
    "            for i in range(9,34):\n",
    "            #for i in [5,9,17,33]:\n",
    "                img = Image.open((no_defect_image_store.replace('33',str(i)) + no_defect_name.replace('33elem',(str(i)+'elem'))))\n",
    "                #img = Image.open((image_store + name.replace('33elem',(str(i)+'elem'))))\n",
    "                imgs.append(img)\n",
    "\n",
    "            results = model(imgs, size=600)\n",
    "\n",
    "            test_full,image_number,defective = kalman(results,kalman_thresh,box_thresh)\n",
    "            if defective == True:\n",
    "                fp_count = fp_count + 1\n",
    "\n",
    "        try:\n",
    "            print((tp_count/38),true_box_count,false_box_count,(fp_count/40))\n",
    "            print(required_frames/tp_count)\n",
    "            append_list_as_row('GridSearch_Output_best.csv', [(tp_count/39),true_box_count,false_box_count,(fp_count/40),(required_frames/tp_count),threshold,0.55,0.45,b_thresh])   \n",
    "        except ZeroDivisionError:\n",
    "             pass\n"
   ]
  },
  {
   "cell_type": "code",
   "execution_count": 40,
   "metadata": {},
   "outputs": [
    {
     "name": "stdout",
     "output_type": "stream",
     "text": [
      "0.8421052631578947 28 4 0.425\n",
      "30.125\n"
     ]
    }
   ],
   "source": [
    "print((tp_count/38),true_box_count,false_box_count,(fp_count/40))\n",
    "print((required_frames/tp_count)+9)"
   ]
  },
  {
   "cell_type": "code",
   "execution_count": null,
   "metadata": {},
   "outputs": [],
   "source": [
    "test_full,image_number,defective = kalman(results,kalman_thresh,box_thresh)"
   ]
  }
 ],
 "metadata": {
  "kernelspec": {
   "display_name": "Python 3.8.13 ('R-CNN')",
   "language": "python",
   "name": "python3"
  },
  "language_info": {
   "codemirror_mode": {
    "name": "ipython",
    "version": 3
   },
   "file_extension": ".py",
   "mimetype": "text/x-python",
   "name": "python",
   "nbconvert_exporter": "python",
   "pygments_lexer": "ipython3",
   "version": "3.8.13"
  },
  "orig_nbformat": 4,
  "vscode": {
   "interpreter": {
    "hash": "a90ecc72ebe7240c999695c0dec6212377e54be5ed3823ea1bf5949a415bb938"
   }
  }
 },
 "nbformat": 4,
 "nbformat_minor": 2
}
